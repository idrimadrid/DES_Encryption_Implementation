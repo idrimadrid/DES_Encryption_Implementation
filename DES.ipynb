{
 "cells": [
  {
   "cell_type": "markdown",
   "metadata": {},
   "source": [
    "#### Key generation"
   ]
  },
  {
   "cell_type": "code",
   "execution_count": 272,
   "metadata": {
    "ExecuteTime": {
     "end_time": "2021-03-11T22:03:49.227254Z",
     "start_time": "2021-03-11T22:03:49.219274Z"
    }
   },
   "outputs": [
    {
     "data": {
      "text/plain": [
       "64"
      ]
     },
     "execution_count": 272,
     "metadata": {},
     "output_type": "execute_result"
    }
   ],
   "source": [
    "KEY = list('0000000100100011010001010110011110001001101010111100110111101111')\n",
    "KEY = [x for x in KEY]\n",
    "len(KEY)"
   ]
  },
  {
   "cell_type": "code",
   "execution_count": 276,
   "metadata": {
    "ExecuteTime": {
     "end_time": "2021-03-11T22:04:36.759343Z",
     "start_time": "2021-03-11T22:04:36.754356Z"
    }
   },
   "outputs": [],
   "source": [
    "for i in range(63,1,-8):\n",
    "    KEY.pop(i)"
   ]
  },
  {
   "cell_type": "code",
   "execution_count": 294,
   "metadata": {
    "ExecuteTime": {
     "end_time": "2021-03-11T22:11:26.184511Z",
     "start_time": "2021-03-11T22:11:26.178528Z"
    }
   },
   "outputs": [
    {
     "data": {
      "text/plain": [
       "48"
      ]
     },
     "execution_count": 294,
     "metadata": {},
     "output_type": "execute_result"
    }
   ],
   "source": [
    "len(KEY)"
   ]
  },
  {
   "cell_type": "code",
   "execution_count": 293,
   "metadata": {
    "ExecuteTime": {
     "end_time": "2021-03-11T22:11:22.727839Z",
     "start_time": "2021-03-11T22:11:22.721818Z"
    }
   },
   "outputs": [
    {
     "data": {
      "text/plain": [
       "'000000000000101001001011100010001101100110111011'"
      ]
     },
     "execution_count": 293,
     "metadata": {},
     "output_type": "execute_result"
    }
   ],
   "source": [
    "''.join(KEY)"
   ]
  },
  {
   "cell_type": "code",
   "execution_count": 292,
   "metadata": {
    "ExecuteTime": {
     "end_time": "2021-03-11T22:11:17.800470Z",
     "start_time": "2021-03-11T22:11:17.794484Z"
    }
   },
   "outputs": [],
   "source": [
    "drop = [9,18,22,25,35,38,43,54]\n",
    "for x in drop[::-1]:\n",
    "    KEY.pop(x)"
   ]
  },
  {
   "cell_type": "markdown",
   "metadata": {},
   "source": [
    "##### Key 1 "
   ]
  },
  {
   "cell_type": "code",
   "execution_count": 217,
   "metadata": {
    "ExecuteTime": {
     "end_time": "2021-03-11T20:14:46.558244Z",
     "start_time": "2021-03-11T20:14:46.551263Z"
    },
    "scrolled": true
   },
   "outputs": [
    {
     "data": {
      "text/plain": [
       "'1100110000000000110011001111111111110000101010101111000010101010'"
      ]
     },
     "execution_count": 217,
     "metadata": {},
     "output_type": "execute_result"
    }
   ],
   "source": [
    "''.join(FK)"
   ]
  },
  {
   "cell_type": "code",
   "execution_count": 218,
   "metadata": {
    "ExecuteTime": {
     "end_time": "2021-03-11T20:14:49.821619Z",
     "start_time": "2021-03-11T20:14:49.815635Z"
    }
   },
   "outputs": [
    {
     "data": {
      "text/plain": [
       "64"
      ]
     },
     "execution_count": 218,
     "metadata": {},
     "output_type": "execute_result"
    }
   ],
   "source": [
    "len(fin)"
   ]
  },
  {
   "cell_type": "markdown",
   "metadata": {},
   "source": [
    "#### Chaine de caractére"
   ]
  },
  {
   "cell_type": "code",
   "execution_count": 341,
   "metadata": {
    "ExecuteTime": {
     "end_time": "2021-03-11T23:05:41.239325Z",
     "start_time": "2021-03-11T23:05:41.233341Z"
    }
   },
   "outputs": [
    {
     "data": {
      "text/plain": [
       "64"
      ]
     },
     "execution_count": 341,
     "metadata": {},
     "output_type": "execute_result"
    }
   ],
   "source": [
    "chaine = list('0010001101000101011001111000100110101011110011011110111100000001')\n",
    "len(chaine)"
   ]
  },
  {
   "cell_type": "code",
   "execution_count": 215,
   "metadata": {
    "ExecuteTime": {
     "end_time": "2021-03-11T20:14:45.061605Z",
     "start_time": "2021-03-11T20:14:45.056619Z"
    },
    "scrolled": true
   },
   "outputs": [],
   "source": [
    "PM = '''58 50 42 34 26 18 10 2 60 52 44 36 28 20 12\n",
    "        4 62 54 46 38 30 22 14 6 64 56 48 40 32 24 16 \n",
    "        8 57 49 41 33 25 17 9 1 59 51 43 35 27 19 11 3 \n",
    "        61 53 45 37 29 21 13 5 63 55 47 39 31 23 15 7'''\n",
    "PM= PM.split(\" \")\n",
    "PM = [int(x) for x in idx ]"
   ]
  },
  {
   "cell_type": "code",
   "execution_count": 216,
   "metadata": {
    "ExecuteTime": {
     "end_time": "2021-03-11T20:14:45.803533Z",
     "start_time": "2021-03-11T20:14:45.799544Z"
    }
   },
   "outputs": [],
   "source": [
    "FK = []\n",
    "for i in idx:\n",
    "    FK.append(str(KEY[i-1]))"
   ]
  },
  {
   "cell_type": "markdown",
   "metadata": {},
   "source": [
    "#### Spliting "
   ]
  },
  {
   "cell_type": "code",
   "execution_count": 344,
   "metadata": {
    "ExecuteTime": {
     "end_time": "2021-03-11T23:06:10.582708Z",
     "start_time": "2021-03-11T23:06:10.575725Z"
    }
   },
   "outputs": [
    {
     "data": {
      "text/plain": [
       "32"
      ]
     },
     "execution_count": 344,
     "metadata": {},
     "output_type": "execute_result"
    }
   ],
   "source": [
    "L = chaine[:32]\n",
    "len(L)"
   ]
  },
  {
   "cell_type": "code",
   "execution_count": 339,
   "metadata": {
    "ExecuteTime": {
     "end_time": "2021-03-11T23:05:26.663351Z",
     "start_time": "2021-03-11T23:05:26.656370Z"
    }
   },
   "outputs": [
    {
     "data": {
      "text/plain": [
       "32"
      ]
     },
     "execution_count": 339,
     "metadata": {},
     "output_type": "execute_result"
    }
   ],
   "source": [
    "R = chaine[32:]\n",
    "R.insert(0,R[-1])\n",
    "R.pop(-1)\n",
    "len(R)"
   ]
  },
  {
   "cell_type": "code",
   "execution_count": 223,
   "metadata": {
    "ExecuteTime": {
     "end_time": "2021-03-11T20:16:23.374648Z",
     "start_time": "2021-03-11T20:16:23.367633Z"
    },
    "scrolled": true
   },
   "outputs": [
    {
     "data": {
      "text/plain": [
       "'1101010101111110010110111111010111101000000000'"
      ]
     },
     "execution_count": 223,
     "metadata": {},
     "output_type": "execute_result"
    }
   ],
   "source": [
    "add = 4\n",
    "for i in range(7): \n",
    "    R.insert(add+2,R[add])\n",
    "    R.insert(add+3,R[add+1])\n",
    "    add+=6\n",
    "''.join(R)       "
   ]
  },
  {
   "cell_type": "code",
   "execution_count": 224,
   "metadata": {
    "ExecuteTime": {
     "end_time": "2021-03-11T20:16:27.789699Z",
     "start_time": "2021-03-11T20:16:27.783716Z"
    }
   },
   "outputs": [
    {
     "data": {
      "text/plain": [
       "46"
      ]
     },
     "execution_count": 224,
     "metadata": {},
     "output_type": "execute_result"
    }
   ],
   "source": [
    "len(R)"
   ]
  },
  {
   "cell_type": "code",
   "execution_count": 225,
   "metadata": {
    "ExecuteTime": {
     "end_time": "2021-03-11T20:16:30.141085Z",
     "start_time": "2021-03-11T20:16:30.136100Z"
    }
   },
   "outputs": [],
   "source": [
    "def affiche(x,g):\n",
    "    j=0\n",
    "    for i in x:\n",
    "        print(i,end=' - ')\n",
    "        j+=1\n",
    "        if j % g == 0:\n",
    "            print(\"\\n\")"
   ]
  },
  {
   "cell_type": "code",
   "execution_count": 295,
   "metadata": {
    "ExecuteTime": {
     "end_time": "2021-03-11T22:12:29.209413Z",
     "start_time": "2021-03-11T22:12:29.202391Z"
    }
   },
   "outputs": [
    {
     "name": "stdout",
     "output_type": "stream",
     "text": [
      "1 - 1 - 0 - 1 - 0 - 1 - \n",
      "\n",
      "0 - 1 - 0 - 1 - 1 - 1 - \n",
      "\n",
      "1 - 1 - 1 - 0 - 0 - 1 - \n",
      "\n",
      "0 - 1 - 1 - 0 - 1 - 1 - \n",
      "\n",
      "1 - 1 - 1 - 1 - 0 - 1 - \n",
      "\n",
      "0 - 1 - 1 - 1 - 1 - 0 - \n",
      "\n",
      "1 - 0 - 0 - 0 - 0 - 0 - \n",
      "\n",
      "0 - 0 - 0 - 0 - 1 - 1 - \n",
      "\n"
     ]
    }
   ],
   "source": [
    "affiche(R,6)"
   ]
  },
  {
   "cell_type": "code",
   "execution_count": 226,
   "metadata": {
    "ExecuteTime": {
     "end_time": "2021-03-11T20:16:33.772668Z",
     "start_time": "2021-03-11T20:16:33.767681Z"
    }
   },
   "outputs": [],
   "source": [
    "R.append(R[0])\n",
    "R.append(R[1])"
   ]
  },
  {
   "cell_type": "code",
   "execution_count": 227,
   "metadata": {
    "ExecuteTime": {
     "end_time": "2021-03-11T20:16:38.588621Z",
     "start_time": "2021-03-11T20:16:38.583638Z"
    }
   },
   "outputs": [
    {
     "data": {
      "text/plain": [
       "'110101010111111001011011111101011110100000000011'"
      ]
     },
     "execution_count": 227,
     "metadata": {},
     "output_type": "execute_result"
    }
   ],
   "source": [
    "''.join(R)"
   ]
  },
  {
   "cell_type": "markdown",
   "metadata": {},
   "source": [
    "##### XOR "
   ]
  },
  {
   "cell_type": "code",
   "execution_count": 296,
   "metadata": {
    "ExecuteTime": {
     "end_time": "2021-03-11T22:12:38.727312Z",
     "start_time": "2021-03-11T22:12:38.722281Z"
    }
   },
   "outputs": [
    {
     "data": {
      "text/plain": [
       "48"
      ]
     },
     "execution_count": 296,
     "metadata": {},
     "output_type": "execute_result"
    }
   ],
   "source": [
    "len(R)"
   ]
  },
  {
   "cell_type": "code",
   "execution_count": 297,
   "metadata": {
    "ExecuteTime": {
     "end_time": "2021-03-11T22:12:43.337225Z",
     "start_time": "2021-03-11T22:12:43.330206Z"
    },
    "scrolled": false
   },
   "outputs": [
    {
     "data": {
      "text/plain": [
       "48"
      ]
     },
     "execution_count": 297,
     "metadata": {},
     "output_type": "execute_result"
    }
   ],
   "source": [
    "len(KEY)"
   ]
  },
  {
   "cell_type": "code",
   "execution_count": 300,
   "metadata": {
    "ExecuteTime": {
     "end_time": "2021-03-11T22:15:30.008285Z",
     "start_time": "2021-03-11T22:15:30.002303Z"
    }
   },
   "outputs": [],
   "source": [
    "x=[]\n",
    "KEY = [int(x) for x in KEY]\n",
    "R = [int(x) for x in R]\n",
    "\n",
    "for i in range(0,len(R)):\n",
    "    x.append(KEY[i] ^ R[i])"
   ]
  },
  {
   "cell_type": "code",
   "execution_count": 306,
   "metadata": {
    "ExecuteTime": {
     "end_time": "2021-03-11T22:16:48.200953Z",
     "start_time": "2021-03-11T22:16:48.194965Z"
    }
   },
   "outputs": [
    {
     "data": {
      "text/plain": [
       "'110101010111010000010000011111010011000110111000'"
      ]
     },
     "execution_count": 306,
     "metadata": {},
     "output_type": "execute_result"
    }
   ],
   "source": [
    "x = [str(i) for i in x]\n",
    "''.join(x)\n"
   ]
  },
  {
   "cell_type": "code",
   "execution_count": 318,
   "metadata": {
    "ExecuteTime": {
     "end_time": "2021-03-11T22:51:51.685322Z",
     "start_time": "2021-03-11T22:51:51.681353Z"
    }
   },
   "outputs": [],
   "source": [
    "res = list(\"00111011001100111000011000010011\")"
   ]
  },
  {
   "cell_type": "code",
   "execution_count": 322,
   "metadata": {
    "ExecuteTime": {
     "end_time": "2021-03-11T22:53:05.509427Z",
     "start_time": "2021-03-11T22:53:05.505416Z"
    }
   },
   "outputs": [],
   "source": [
    "l = \"\"\"16\n",
    "7\n",
    "20\n",
    "21\n",
    "29\n",
    "12\n",
    "28\n",
    "17\n",
    "1\n",
    "15\n",
    "23\n",
    "26\n",
    "5\n",
    "18\n",
    "31\n",
    "10\n",
    "2\n",
    "8\n",
    "24\n",
    "14\n",
    "32\n",
    "27\n",
    "3\n",
    "9\n",
    "19\n",
    "13\n",
    "30\n",
    "6\n",
    "22\n",
    "11\n",
    "4\n",
    "25\"\"\""
   ]
  },
  {
   "cell_type": "code",
   "execution_count": 323,
   "metadata": {
    "ExecuteTime": {
     "end_time": "2021-03-11T22:53:07.975262Z",
     "start_time": "2021-03-11T22:53:07.971272Z"
    }
   },
   "outputs": [],
   "source": [
    "l = l.split('\\n')\n",
    "l = [int(x)-1 for x in l]"
   ]
  },
  {
   "cell_type": "code",
   "execution_count": 324,
   "metadata": {
    "ExecuteTime": {
     "end_time": "2021-03-11T22:53:11.013256Z",
     "start_time": "2021-03-11T22:53:11.009293Z"
    },
    "scrolled": true
   },
   "outputs": [],
   "source": [
    "p = []\n",
    "for x in l:\n",
    "    p.append(res[x])"
   ]
  },
  {
   "cell_type": "code",
   "execution_count": 326,
   "metadata": {
    "ExecuteTime": {
     "end_time": "2021-03-11T22:53:33.414453Z",
     "start_time": "2021-03-11T22:53:33.408470Z"
    }
   },
   "outputs": [
    {
     "data": {
      "text/plain": [
       "'11000111011010100100101000001110'"
      ]
     },
     "execution_count": 326,
     "metadata": {},
     "output_type": "execute_result"
    }
   ],
   "source": [
    "''.join(p)"
   ]
  },
  {
   "cell_type": "code",
   "execution_count": 329,
   "metadata": {
    "ExecuteTime": {
     "end_time": "2021-03-11T22:54:07.736978Z",
     "start_time": "2021-03-11T22:54:07.730594Z"
    },
    "scrolled": true
   },
   "outputs": [
    {
     "data": {
      "text/plain": [
       "'00111011001100111000011000010011'"
      ]
     },
     "execution_count": 329,
     "metadata": {},
     "output_type": "execute_result"
    }
   ],
   "source": [
    "''.join(res)"
   ]
  },
  {
   "cell_type": "code",
   "execution_count": 345,
   "metadata": {
    "ExecuteTime": {
     "end_time": "2021-03-11T23:06:17.526534Z",
     "start_time": "2021-03-11T23:06:17.520553Z"
    }
   },
   "outputs": [],
   "source": [
    "x=[]\n",
    "res = [int(x) for x in res]\n",
    "L = [int(x) for x in L]\n",
    "\n",
    "for i in range(0,len(L)):\n",
    "    x.append(res[i] ^ L[i])"
   ]
  },
  {
   "cell_type": "code",
   "execution_count": 346,
   "metadata": {
    "ExecuteTime": {
     "end_time": "2021-03-11T23:06:19.960555Z",
     "start_time": "2021-03-11T23:06:19.953571Z"
    }
   },
   "outputs": [
    {
     "data": {
      "text/plain": [
       "'00011000011101101110000110011010'"
      ]
     },
     "execution_count": 346,
     "metadata": {},
     "output_type": "execute_result"
    }
   ],
   "source": [
    "x\n",
    "x = [str(i) for i in x]\n",
    "''.join(x)"
   ]
  }
 ],
 "metadata": {
  "kernelspec": {
   "display_name": "Python 3",
   "language": "python",
   "name": "python3"
  },
  "language_info": {
   "codemirror_mode": {
    "name": "ipython",
    "version": 3
   },
   "file_extension": ".py",
   "mimetype": "text/x-python",
   "name": "python",
   "nbconvert_exporter": "python",
   "pygments_lexer": "ipython3",
   "version": "3.8.5"
  },
  "toc": {
   "base_numbering": 1,
   "nav_menu": {},
   "number_sections": true,
   "sideBar": true,
   "skip_h1_title": false,
   "title_cell": "Table of Contents",
   "title_sidebar": "Contents",
   "toc_cell": false,
   "toc_position": {},
   "toc_section_display": true,
   "toc_window_display": false
  },
  "varInspector": {
   "cols": {
    "lenName": 16,
    "lenType": 16,
    "lenVar": 40
   },
   "kernels_config": {
    "python": {
     "delete_cmd_postfix": "",
     "delete_cmd_prefix": "del ",
     "library": "var_list.py",
     "varRefreshCmd": "print(var_dic_list())"
    },
    "r": {
     "delete_cmd_postfix": ") ",
     "delete_cmd_prefix": "rm(",
     "library": "var_list.r",
     "varRefreshCmd": "cat(var_dic_list()) "
    }
   },
   "types_to_exclude": [
    "module",
    "function",
    "builtin_function_or_method",
    "instance",
    "_Feature"
   ],
   "window_display": false
  }
 },
 "nbformat": 4,
 "nbformat_minor": 4
}
